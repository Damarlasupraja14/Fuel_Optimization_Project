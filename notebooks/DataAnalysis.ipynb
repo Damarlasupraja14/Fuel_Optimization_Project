{
 "cells": [
  {
   "cell_type": "markdown",
   "id": "a351c7f5",
   "metadata": {},
   "source": [
    "# Importing Necessary Libraries"
   ]
  },
  {
   "cell_type": "code",
   "execution_count": 1,
   "id": "dda38359",
   "metadata": {},
   "outputs": [],
   "source": [
    "import pandas as pd\n",
    "import matplotlib.pyplot as plt\n"
   ]
  },
  {
   "cell_type": "markdown",
   "id": "e8290672",
   "metadata": {},
   "source": [
    "*  We have 3 files \n",
    "  1. fcosts  --  which includes Fleet operational Costs\n",
    "  2. freight --  Freight and Revenue data\n",
    "  3. Driver  --  which includes Driver information"
   ]
  },
  {
   "cell_type": "markdown",
   "id": "830d2d0d",
   "metadata": {},
   "source": [
    "* fcosts contains first 2 rows as heading so I skip them."
   ]
  },
  {
   "cell_type": "code",
   "execution_count": 3,
   "id": "bfebbb75",
   "metadata": {},
   "outputs": [
    {
     "data": {
      "text/html": [
       "<div>\n",
       "<style scoped>\n",
       "    .dataframe tbody tr th:only-of-type {\n",
       "        vertical-align: middle;\n",
       "    }\n",
       "\n",
       "    .dataframe tbody tr th {\n",
       "        vertical-align: top;\n",
       "    }\n",
       "\n",
       "    .dataframe thead th {\n",
       "        text-align: right;\n",
       "    }\n",
       "</style>\n",
       "<table border=\"1\" class=\"dataframe\">\n",
       "  <thead>\n",
       "    <tr style=\"text-align: right;\">\n",
       "      <th></th>\n",
       "      <th>Date</th>\n",
       "      <th>Truck_ID</th>\n",
       "      <th>Driver_ID</th>\n",
       "      <th>KM_Traveled</th>\n",
       "      <th>Liters</th>\n",
       "      <th>Fuel_Cost</th>\n",
       "      <th>Maintenance_Cost</th>\n",
       "      <th>Fixed_Costs</th>\n",
       "    </tr>\n",
       "  </thead>\n",
       "  <tbody>\n",
       "    <tr>\n",
       "      <th>0</th>\n",
       "      <td>2018-01-01</td>\n",
       "      <td>2</td>\n",
       "      <td>2</td>\n",
       "      <td>4594</td>\n",
       "      <td>1303.06</td>\n",
       "      <td>4077.49</td>\n",
       "      <td>1011.93</td>\n",
       "      <td>10502.595165</td>\n",
       "    </tr>\n",
       "    <tr>\n",
       "      <th>1</th>\n",
       "      <td>2018-01-01</td>\n",
       "      <td>6</td>\n",
       "      <td>4</td>\n",
       "      <td>3816</td>\n",
       "      <td>899.14</td>\n",
       "      <td>2813.7</td>\n",
       "      <td>1561.78</td>\n",
       "      <td>6092.156655</td>\n",
       "    </tr>\n",
       "    <tr>\n",
       "      <th>2</th>\n",
       "      <td>2018-01-01</td>\n",
       "      <td>17</td>\n",
       "      <td>9</td>\n",
       "      <td>7116</td>\n",
       "      <td>2128.46</td>\n",
       "      <td>6491</td>\n",
       "      <td>1324.12</td>\n",
       "      <td>11930.90331</td>\n",
       "    </tr>\n",
       "    <tr>\n",
       "      <th>3</th>\n",
       "      <td>2018-01-01</td>\n",
       "      <td>19</td>\n",
       "      <td>11</td>\n",
       "      <td>2724</td>\n",
       "      <td>669.73</td>\n",
       "      <td>2123.58</td>\n",
       "      <td>560.17</td>\n",
       "      <td>7428.016155</td>\n",
       "    </tr>\n",
       "    <tr>\n",
       "      <th>4</th>\n",
       "      <td>2018-01-01</td>\n",
       "      <td>20</td>\n",
       "      <td>12</td>\n",
       "      <td>3862</td>\n",
       "      <td>723.02</td>\n",
       "      <td>2378.19</td>\n",
       "      <td>648.11</td>\n",
       "      <td>6735.388638</td>\n",
       "    </tr>\n",
       "  </tbody>\n",
       "</table>\n",
       "</div>"
      ],
      "text/plain": [
       "        Date Truck_ID Driver_ID KM_Traveled   Liters Fuel_Cost  \\\n",
       "0 2018-01-01        2         2        4594  1303.06   4077.49   \n",
       "1 2018-01-01        6         4        3816   899.14    2813.7   \n",
       "2 2018-01-01       17         9        7116  2128.46      6491   \n",
       "3 2018-01-01       19        11        2724   669.73   2123.58   \n",
       "4 2018-01-01       20        12        3862   723.02   2378.19   \n",
       "\n",
       "  Maintenance_Cost   Fixed_Costs  \n",
       "0          1011.93  10502.595165  \n",
       "1          1561.78   6092.156655  \n",
       "2          1324.12   11930.90331  \n",
       "3           560.17   7428.016155  \n",
       "4           648.11   6735.388638  "
      ]
     },
     "execution_count": 3,
     "metadata": {},
     "output_type": "execute_result"
    }
   ],
   "source": [
    "\n",
    "# Load the file and skip the first 2 rows\n",
    "df_fcosts = pd.read_excel(\"C://Users//user//Downloads//archive (4)//fCosts.xlsx\", skiprows=2)\n",
    "\n",
    "# Rename columns for clarity\n",
    "df_fcosts.columns = [\n",
    "    \"Date\", \"Truck_ID\", \"Driver_ID\", \"KM_Traveled\", \"Liters\",\n",
    "    \"Fuel_Cost\", \"Maintenance_Cost\", \"Fixed_Costs\"\n",
    "]\n",
    "\n",
    "# Ensure Date in df_fcosts is datetime\n",
    "df_fcosts[\"Date\"] = pd.to_datetime(df_fcosts[\"Date\"], errors='coerce')\n",
    "\n",
    "# Preview cleaned data\n",
    "df_fcosts.head()\n"
   ]
  },
  {
   "cell_type": "code",
   "execution_count": 4,
   "id": "b897a7cb",
   "metadata": {},
   "outputs": [
    {
     "data": {
      "text/html": [
       "<div>\n",
       "<style scoped>\n",
       "    .dataframe tbody tr th:only-of-type {\n",
       "        vertical-align: middle;\n",
       "    }\n",
       "\n",
       "    .dataframe tbody tr th {\n",
       "        vertical-align: top;\n",
       "    }\n",
       "\n",
       "    .dataframe thead th {\n",
       "        text-align: right;\n",
       "    }\n",
       "</style>\n",
       "<table border=\"1\" class=\"dataframe\">\n",
       "  <thead>\n",
       "    <tr style=\"text-align: right;\">\n",
       "      <th></th>\n",
       "      <th>Date</th>\n",
       "      <th>Customer_ID</th>\n",
       "      <th>Truck_ID</th>\n",
       "      <th>Invoice_Number</th>\n",
       "      <th>Freight_ID</th>\n",
       "      <th>City</th>\n",
       "      <th>Net_Revenue</th>\n",
       "      <th>Weight(Kg)</th>\n",
       "      <th>Weight(Cubic)</th>\n",
       "      <th>Goods_Value</th>\n",
       "    </tr>\n",
       "  </thead>\n",
       "  <tbody>\n",
       "    <tr>\n",
       "      <th>0</th>\n",
       "      <td>2018-02-01</td>\n",
       "      <td>10975</td>\n",
       "      <td>38</td>\n",
       "      <td>774571</td>\n",
       "      <td>02/01/2018:MMA-5946</td>\n",
       "      <td>Herrings Crossroads</td>\n",
       "      <td>7.42</td>\n",
       "      <td>2.50</td>\n",
       "      <td>3.0</td>\n",
       "      <td>247.39</td>\n",
       "    </tr>\n",
       "    <tr>\n",
       "      <th>1</th>\n",
       "      <td>2018-02-01</td>\n",
       "      <td>22346</td>\n",
       "      <td>23</td>\n",
       "      <td>774507</td>\n",
       "      <td>02/01/2018:MMA-4836</td>\n",
       "      <td>Enders</td>\n",
       "      <td>3.54</td>\n",
       "      <td>2.62</td>\n",
       "      <td>3.0</td>\n",
       "      <td>118.05</td>\n",
       "    </tr>\n",
       "    <tr>\n",
       "      <th>2</th>\n",
       "      <td>2018-02-01</td>\n",
       "      <td>12208</td>\n",
       "      <td>23</td>\n",
       "      <td>774516</td>\n",
       "      <td>02/01/2018:MMA-4836</td>\n",
       "      <td>Shavertown</td>\n",
       "      <td>8.98</td>\n",
       "      <td>5.54</td>\n",
       "      <td>9.0</td>\n",
       "      <td>299.01</td>\n",
       "    </tr>\n",
       "    <tr>\n",
       "      <th>3</th>\n",
       "      <td>2018-02-01</td>\n",
       "      <td>1929</td>\n",
       "      <td>23</td>\n",
       "      <td>774626</td>\n",
       "      <td>02/01/2018:MMA-4836</td>\n",
       "      <td>Enders</td>\n",
       "      <td>12.49</td>\n",
       "      <td>7.80</td>\n",
       "      <td>9.0</td>\n",
       "      <td>416.27</td>\n",
       "    </tr>\n",
       "    <tr>\n",
       "      <th>4</th>\n",
       "      <td>2018-02-01</td>\n",
       "      <td>6198</td>\n",
       "      <td>23</td>\n",
       "      <td>774623</td>\n",
       "      <td>02/01/2018:MMA-4836</td>\n",
       "      <td>Enders</td>\n",
       "      <td>2.49</td>\n",
       "      <td>8.55</td>\n",
       "      <td>9.0</td>\n",
       "      <td>82.90</td>\n",
       "    </tr>\n",
       "  </tbody>\n",
       "</table>\n",
       "</div>"
      ],
      "text/plain": [
       "        Date  Customer_ID  Truck_ID  Invoice_Number           Freight_ID  \\\n",
       "0 2018-02-01        10975        38          774571  02/01/2018:MMA-5946   \n",
       "1 2018-02-01        22346        23          774507  02/01/2018:MMA-4836   \n",
       "2 2018-02-01        12208        23          774516  02/01/2018:MMA-4836   \n",
       "3 2018-02-01         1929        23          774626  02/01/2018:MMA-4836   \n",
       "4 2018-02-01         6198        23          774623  02/01/2018:MMA-4836   \n",
       "\n",
       "                  City  Net_Revenue  Weight(Kg)  Weight(Cubic)  Goods_Value  \n",
       "0  Herrings Crossroads         7.42        2.50            3.0       247.39  \n",
       "1               Enders         3.54        2.62            3.0       118.05  \n",
       "2           Shavertown         8.98        5.54            9.0       299.01  \n",
       "3               Enders        12.49        7.80            9.0       416.27  \n",
       "4               Enders         2.49        8.55            9.0        82.90  "
      ]
     },
     "execution_count": 4,
     "metadata": {},
     "output_type": "execute_result"
    }
   ],
   "source": [
    "# Load freight data\n",
    "df_ffreight = pd.read_csv(\"C://Users//user//Downloads//archive (4)//fFreight.csv\")\n",
    "\n",
    "# Replace commas with dots and convert numeric columns to float\n",
    "for col in [\"Net_Revenue\", \"Weight(Kg)\", \"Weight(Cubic)\", \"Goods_Value\"]:\n",
    "    df_ffreight[col] = df_ffreight[col].astype(str).str.replace(\",\", \".\").astype(float)\n",
    "\n",
    "# Ensure Date in df_ffreight is datetime\n",
    "df_ffreight[\"Date\"] = pd.to_datetime(df_ffreight[\"Date\"], errors='coerce')\n",
    "\n",
    "# Drop rows with invalid dates\n",
    "df_ffreight = df_ffreight.dropna(subset=[\"Date\"])\n",
    "\n",
    "# Reset index\n",
    "df_ffreight.reset_index(drop=True, inplace=True)\n",
    "\n",
    "# Preview cleaned data\n",
    "df_ffreight.head()"
   ]
  },
  {
   "cell_type": "markdown",
   "id": "a3b32b44",
   "metadata": {},
   "source": [
    "   *  Merge fCosts with driver info from DimensionTables (on Driver_ID)\n",
    "\n"
   ]
  },
  {
   "cell_type": "code",
   "execution_count": 5,
   "id": "daf1aed4",
   "metadata": {},
   "outputs": [
    {
     "data": {
      "text/html": [
       "<div>\n",
       "<style scoped>\n",
       "    .dataframe tbody tr th:only-of-type {\n",
       "        vertical-align: middle;\n",
       "    }\n",
       "\n",
       "    .dataframe tbody tr th {\n",
       "        vertical-align: top;\n",
       "    }\n",
       "\n",
       "    .dataframe thead th {\n",
       "        text-align: right;\n",
       "    }\n",
       "</style>\n",
       "<table border=\"1\" class=\"dataframe\">\n",
       "  <thead>\n",
       "    <tr style=\"text-align: right;\">\n",
       "      <th></th>\n",
       "      <th>Date</th>\n",
       "      <th>Truck_ID</th>\n",
       "      <th>Driver_ID</th>\n",
       "      <th>KM_Traveled</th>\n",
       "      <th>Liters</th>\n",
       "      <th>Fuel_Cost</th>\n",
       "      <th>Maintenance_Cost</th>\n",
       "      <th>Fixed_Costs</th>\n",
       "      <th>Driver</th>\n",
       "    </tr>\n",
       "  </thead>\n",
       "  <tbody>\n",
       "    <tr>\n",
       "      <th>0</th>\n",
       "      <td>2018-01-01</td>\n",
       "      <td>2</td>\n",
       "      <td>2</td>\n",
       "      <td>4594</td>\n",
       "      <td>1303.06</td>\n",
       "      <td>4077.49</td>\n",
       "      <td>1011.93</td>\n",
       "      <td>10502.595165</td>\n",
       "      <td>Ridwan Greaves</td>\n",
       "    </tr>\n",
       "    <tr>\n",
       "      <th>1</th>\n",
       "      <td>2018-01-01</td>\n",
       "      <td>6</td>\n",
       "      <td>4</td>\n",
       "      <td>3816</td>\n",
       "      <td>899.14</td>\n",
       "      <td>2813.7</td>\n",
       "      <td>1561.78</td>\n",
       "      <td>6092.156655</td>\n",
       "      <td>Karol Woods</td>\n",
       "    </tr>\n",
       "    <tr>\n",
       "      <th>2</th>\n",
       "      <td>2018-01-01</td>\n",
       "      <td>17</td>\n",
       "      <td>9</td>\n",
       "      <td>7116</td>\n",
       "      <td>2128.46</td>\n",
       "      <td>6491</td>\n",
       "      <td>1324.12</td>\n",
       "      <td>11930.90331</td>\n",
       "      <td>Kenzie Macdonald</td>\n",
       "    </tr>\n",
       "    <tr>\n",
       "      <th>3</th>\n",
       "      <td>2018-01-01</td>\n",
       "      <td>19</td>\n",
       "      <td>11</td>\n",
       "      <td>2724</td>\n",
       "      <td>669.73</td>\n",
       "      <td>2123.58</td>\n",
       "      <td>560.17</td>\n",
       "      <td>7428.016155</td>\n",
       "      <td>Maheen Nicholls</td>\n",
       "    </tr>\n",
       "    <tr>\n",
       "      <th>4</th>\n",
       "      <td>2018-01-01</td>\n",
       "      <td>20</td>\n",
       "      <td>12</td>\n",
       "      <td>3862</td>\n",
       "      <td>723.02</td>\n",
       "      <td>2378.19</td>\n",
       "      <td>648.11</td>\n",
       "      <td>6735.388638</td>\n",
       "      <td>Stevie Schofield</td>\n",
       "    </tr>\n",
       "  </tbody>\n",
       "</table>\n",
       "</div>"
      ],
      "text/plain": [
       "        Date Truck_ID Driver_ID KM_Traveled   Liters Fuel_Cost  \\\n",
       "0 2018-01-01        2         2        4594  1303.06   4077.49   \n",
       "1 2018-01-01        6         4        3816   899.14    2813.7   \n",
       "2 2018-01-01       17         9        7116  2128.46      6491   \n",
       "3 2018-01-01       19        11        2724   669.73   2123.58   \n",
       "4 2018-01-01       20        12        3862   723.02   2378.19   \n",
       "\n",
       "  Maintenance_Cost   Fixed_Costs            Driver  \n",
       "0          1011.93  10502.595165    Ridwan Greaves  \n",
       "1          1561.78   6092.156655       Karol Woods  \n",
       "2          1324.12   11930.90331  Kenzie Macdonald  \n",
       "3           560.17   7428.016155   Maheen Nicholls  \n",
       "4           648.11   6735.388638  Stevie Schofield  "
      ]
     },
     "execution_count": 5,
     "metadata": {},
     "output_type": "execute_result"
    }
   ],
   "source": [
    "# Load driver dimension table\n",
    "df_driver = pd.read_excel(\"C://Users//user//Downloads//archive (4)//DimensionTables.xlsx\")\n",
    "\n",
    "# Merge to add driver names\n",
    "df_costs_full = pd.merge(df_fcosts, df_driver, on=\"Driver_ID\", how=\"left\")\n",
    "\n",
    "\n",
    "df_costs_full.head()"
   ]
  },
  {
   "cell_type": "markdown",
   "id": "eea03522",
   "metadata": {},
   "source": [
    "  *  merge fCosts with fFreight (on Date and Truck_ID) to correlate costs with revenue\n",
    "  \n",
    "     Prepare this combined data for analysis in Power BI or SQL\n",
    "\n",
    "\n",
    "\n",
    " "
   ]
  },
  {
   "cell_type": "code",
   "execution_count": 6,
   "id": "be9fb5b1",
   "metadata": {},
   "outputs": [
    {
     "data": {
      "text/html": [
       "<div>\n",
       "<style scoped>\n",
       "    .dataframe tbody tr th:only-of-type {\n",
       "        vertical-align: middle;\n",
       "    }\n",
       "\n",
       "    .dataframe tbody tr th {\n",
       "        vertical-align: top;\n",
       "    }\n",
       "\n",
       "    .dataframe thead th {\n",
       "        text-align: right;\n",
       "    }\n",
       "</style>\n",
       "<table border=\"1\" class=\"dataframe\">\n",
       "  <thead>\n",
       "    <tr style=\"text-align: right;\">\n",
       "      <th></th>\n",
       "      <th>Date</th>\n",
       "      <th>Truck_ID</th>\n",
       "      <th>Driver_ID</th>\n",
       "      <th>KM_Traveled</th>\n",
       "      <th>Liters</th>\n",
       "      <th>Fuel_Cost</th>\n",
       "      <th>Maintenance_Cost</th>\n",
       "      <th>Fixed_Costs</th>\n",
       "      <th>Driver</th>\n",
       "      <th>Customer_ID</th>\n",
       "      <th>Invoice_Number</th>\n",
       "      <th>Freight_ID</th>\n",
       "      <th>City</th>\n",
       "      <th>Net_Revenue</th>\n",
       "      <th>Weight(Kg)</th>\n",
       "      <th>Weight(Cubic)</th>\n",
       "      <th>Goods_Value</th>\n",
       "    </tr>\n",
       "  </thead>\n",
       "  <tbody>\n",
       "    <tr>\n",
       "      <th>0</th>\n",
       "      <td>2018-02-01</td>\n",
       "      <td>2</td>\n",
       "      <td>2</td>\n",
       "      <td>4682</td>\n",
       "      <td>1346.76</td>\n",
       "      <td>4205.84</td>\n",
       "      <td>1327.42</td>\n",
       "      <td>10464.817665</td>\n",
       "      <td>Ridwan Greaves</td>\n",
       "      <td>1989</td>\n",
       "      <td>774492</td>\n",
       "      <td>02/01/2018:MJD-6976</td>\n",
       "      <td>Loyce</td>\n",
       "      <td>1792.73</td>\n",
       "      <td>5885.24</td>\n",
       "      <td>8844.00</td>\n",
       "      <td>59757.80</td>\n",
       "    </tr>\n",
       "    <tr>\n",
       "      <th>1</th>\n",
       "      <td>2018-02-01</td>\n",
       "      <td>6</td>\n",
       "      <td>4</td>\n",
       "      <td>1007</td>\n",
       "      <td>244.18</td>\n",
       "      <td>755.54</td>\n",
       "      <td>2095.77</td>\n",
       "      <td>6387.821655</td>\n",
       "      <td>Karol Woods</td>\n",
       "      <td>22106</td>\n",
       "      <td>774602</td>\n",
       "      <td>02/01/2018:MHN-5539</td>\n",
       "      <td>Newburg</td>\n",
       "      <td>11.39</td>\n",
       "      <td>5.81</td>\n",
       "      <td>5.81</td>\n",
       "      <td>379.19</td>\n",
       "    </tr>\n",
       "    <tr>\n",
       "      <th>2</th>\n",
       "      <td>2018-02-01</td>\n",
       "      <td>6</td>\n",
       "      <td>4</td>\n",
       "      <td>1007</td>\n",
       "      <td>244.18</td>\n",
       "      <td>755.54</td>\n",
       "      <td>2095.77</td>\n",
       "      <td>6387.821655</td>\n",
       "      <td>Karol Woods</td>\n",
       "      <td>22106</td>\n",
       "      <td>774601</td>\n",
       "      <td>02/01/2018:MHN-5539</td>\n",
       "      <td>Newburg</td>\n",
       "      <td>0.46</td>\n",
       "      <td>10.00</td>\n",
       "      <td>10.00</td>\n",
       "      <td>15.20</td>\n",
       "    </tr>\n",
       "    <tr>\n",
       "      <th>3</th>\n",
       "      <td>2018-02-01</td>\n",
       "      <td>6</td>\n",
       "      <td>4</td>\n",
       "      <td>1007</td>\n",
       "      <td>244.18</td>\n",
       "      <td>755.54</td>\n",
       "      <td>2095.77</td>\n",
       "      <td>6387.821655</td>\n",
       "      <td>Karol Woods</td>\n",
       "      <td>22106</td>\n",
       "      <td>774599</td>\n",
       "      <td>02/01/2018:MHN-5539</td>\n",
       "      <td>Newburg</td>\n",
       "      <td>1.28</td>\n",
       "      <td>0.66</td>\n",
       "      <td>0.66</td>\n",
       "      <td>42.74</td>\n",
       "    </tr>\n",
       "    <tr>\n",
       "      <th>4</th>\n",
       "      <td>2018-02-01</td>\n",
       "      <td>6</td>\n",
       "      <td>4</td>\n",
       "      <td>1007</td>\n",
       "      <td>244.18</td>\n",
       "      <td>755.54</td>\n",
       "      <td>2095.77</td>\n",
       "      <td>6387.821655</td>\n",
       "      <td>Karol Woods</td>\n",
       "      <td>22106</td>\n",
       "      <td>774600</td>\n",
       "      <td>02/01/2018:MHN-5539</td>\n",
       "      <td>Newburg</td>\n",
       "      <td>0.18</td>\n",
       "      <td>0.40</td>\n",
       "      <td>0.40</td>\n",
       "      <td>5.94</td>\n",
       "    </tr>\n",
       "  </tbody>\n",
       "</table>\n",
       "</div>"
      ],
      "text/plain": [
       "        Date Truck_ID Driver_ID KM_Traveled   Liters Fuel_Cost  \\\n",
       "0 2018-02-01        2         2        4682  1346.76   4205.84   \n",
       "1 2018-02-01        6         4        1007   244.18    755.54   \n",
       "2 2018-02-01        6         4        1007   244.18    755.54   \n",
       "3 2018-02-01        6         4        1007   244.18    755.54   \n",
       "4 2018-02-01        6         4        1007   244.18    755.54   \n",
       "\n",
       "  Maintenance_Cost   Fixed_Costs          Driver  Customer_ID  Invoice_Number  \\\n",
       "0          1327.42  10464.817665  Ridwan Greaves         1989          774492   \n",
       "1          2095.77   6387.821655     Karol Woods        22106          774602   \n",
       "2          2095.77   6387.821655     Karol Woods        22106          774601   \n",
       "3          2095.77   6387.821655     Karol Woods        22106          774599   \n",
       "4          2095.77   6387.821655     Karol Woods        22106          774600   \n",
       "\n",
       "            Freight_ID     City  Net_Revenue  Weight(Kg)  Weight(Cubic)  \\\n",
       "0  02/01/2018:MJD-6976    Loyce      1792.73     5885.24        8844.00   \n",
       "1  02/01/2018:MHN-5539  Newburg        11.39        5.81           5.81   \n",
       "2  02/01/2018:MHN-5539  Newburg         0.46       10.00          10.00   \n",
       "3  02/01/2018:MHN-5539  Newburg         1.28        0.66           0.66   \n",
       "4  02/01/2018:MHN-5539  Newburg         0.18        0.40           0.40   \n",
       "\n",
       "   Goods_Value  \n",
       "0     59757.80  \n",
       "1       379.19  \n",
       "2        15.20  \n",
       "3        42.74  \n",
       "4         5.94  "
      ]
     },
     "execution_count": 6,
     "metadata": {},
     "output_type": "execute_result"
    }
   ],
   "source": [
    "# Merge fCosts with fFreight on Date & Truck_ID\n",
    "df = pd.merge(df_costs_full, df_ffreight, on=[\"Date\", \"Truck_ID\"], how=\"inner\")\n",
    "\n",
    "# Preview the combined dataset\n",
    "df.head()\n"
   ]
  },
  {
   "cell_type": "markdown",
   "id": "c69ef2c9",
   "metadata": {},
   "source": [
    "# Exploratory Data Analysis"
   ]
  },
  {
   "cell_type": "markdown",
   "id": "24b39eac",
   "metadata": {},
   "source": [
    "  ## Total Cost per Truck\n"
   ]
  },
  {
   "cell_type": "code",
   "execution_count": 7,
   "id": "0e56a187",
   "metadata": {},
   "outputs": [
    {
     "data": {
      "text/html": [
       "<div>\n",
       "<style scoped>\n",
       "    .dataframe tbody tr th:only-of-type {\n",
       "        vertical-align: middle;\n",
       "    }\n",
       "\n",
       "    .dataframe tbody tr th {\n",
       "        vertical-align: top;\n",
       "    }\n",
       "\n",
       "    .dataframe thead th {\n",
       "        text-align: right;\n",
       "    }\n",
       "</style>\n",
       "<table border=\"1\" class=\"dataframe\">\n",
       "  <thead>\n",
       "    <tr style=\"text-align: right;\">\n",
       "      <th></th>\n",
       "      <th>Fuel_Cost</th>\n",
       "      <th>Maintenance_Cost</th>\n",
       "      <th>Fixed_Costs</th>\n",
       "    </tr>\n",
       "    <tr>\n",
       "      <th>Truck_ID</th>\n",
       "      <th></th>\n",
       "      <th></th>\n",
       "      <th></th>\n",
       "    </tr>\n",
       "  </thead>\n",
       "  <tbody>\n",
       "    <tr>\n",
       "      <th>22</th>\n",
       "      <td>661839.24</td>\n",
       "      <td>110981.49</td>\n",
       "      <td>1853464.183633</td>\n",
       "    </tr>\n",
       "    <tr>\n",
       "      <th>19</th>\n",
       "      <td>418808.37</td>\n",
       "      <td>63767.97</td>\n",
       "      <td>1022565.2649</td>\n",
       "    </tr>\n",
       "    <tr>\n",
       "      <th>23</th>\n",
       "      <td>312020.63</td>\n",
       "      <td>66505.1</td>\n",
       "      <td>964671.147995</td>\n",
       "    </tr>\n",
       "    <tr>\n",
       "      <th>20</th>\n",
       "      <td>191929.78</td>\n",
       "      <td>62956.53</td>\n",
       "      <td>1029906.113925</td>\n",
       "    </tr>\n",
       "    <tr>\n",
       "      <th>34</th>\n",
       "      <td>188262.59</td>\n",
       "      <td>72970.92</td>\n",
       "      <td>428377.67073</td>\n",
       "    </tr>\n",
       "    <tr>\n",
       "      <th>4</th>\n",
       "      <td>182013.05</td>\n",
       "      <td>115361.68</td>\n",
       "      <td>801114.532202</td>\n",
       "    </tr>\n",
       "    <tr>\n",
       "      <th>38</th>\n",
       "      <td>147150.29</td>\n",
       "      <td>36397.23</td>\n",
       "      <td>796785.243894</td>\n",
       "    </tr>\n",
       "    <tr>\n",
       "      <th>33</th>\n",
       "      <td>119940.77</td>\n",
       "      <td>29634.42</td>\n",
       "      <td>297338.356434</td>\n",
       "    </tr>\n",
       "    <tr>\n",
       "      <th>24</th>\n",
       "      <td>100018.62</td>\n",
       "      <td>11651.33</td>\n",
       "      <td>230561.244525</td>\n",
       "    </tr>\n",
       "    <tr>\n",
       "      <th>29</th>\n",
       "      <td>99728.31</td>\n",
       "      <td>36050.14</td>\n",
       "      <td>414971.175744</td>\n",
       "    </tr>\n",
       "    <tr>\n",
       "      <th>2</th>\n",
       "      <td>94780.05</td>\n",
       "      <td>23574.67</td>\n",
       "      <td>191236.35636</td>\n",
       "    </tr>\n",
       "    <tr>\n",
       "      <th>3</th>\n",
       "      <td>87143.17</td>\n",
       "      <td>28752.38</td>\n",
       "      <td>174341.889412</td>\n",
       "    </tr>\n",
       "    <tr>\n",
       "      <th>17</th>\n",
       "      <td>53915.04</td>\n",
       "      <td>13658.08</td>\n",
       "      <td>110694.162487</td>\n",
       "    </tr>\n",
       "    <tr>\n",
       "      <th>37</th>\n",
       "      <td>22888.32</td>\n",
       "      <td>10668.47</td>\n",
       "      <td>162293.359735</td>\n",
       "    </tr>\n",
       "    <tr>\n",
       "      <th>28</th>\n",
       "      <td>10831.58</td>\n",
       "      <td>6310.56</td>\n",
       "      <td>39611.94993</td>\n",
       "    </tr>\n",
       "    <tr>\n",
       "      <th>7</th>\n",
       "      <td>6922.2</td>\n",
       "      <td>2029.88</td>\n",
       "      <td>29039.92662</td>\n",
       "    </tr>\n",
       "    <tr>\n",
       "      <th>6</th>\n",
       "      <td>6044.32</td>\n",
       "      <td>16766.16</td>\n",
       "      <td>51102.57324</td>\n",
       "    </tr>\n",
       "    <tr>\n",
       "      <th>36</th>\n",
       "      <td>3182.24</td>\n",
       "      <td>3081.99</td>\n",
       "      <td>19813.09833</td>\n",
       "    </tr>\n",
       "  </tbody>\n",
       "</table>\n",
       "</div>"
      ],
      "text/plain": [
       "          Fuel_Cost Maintenance_Cost     Fixed_Costs\n",
       "Truck_ID                                            \n",
       "22        661839.24        110981.49  1853464.183633\n",
       "19        418808.37         63767.97    1022565.2649\n",
       "23        312020.63          66505.1   964671.147995\n",
       "20        191929.78         62956.53  1029906.113925\n",
       "34        188262.59         72970.92    428377.67073\n",
       "4         182013.05        115361.68   801114.532202\n",
       "38        147150.29         36397.23   796785.243894\n",
       "33        119940.77         29634.42   297338.356434\n",
       "24        100018.62         11651.33   230561.244525\n",
       "29         99728.31         36050.14   414971.175744\n",
       "2          94780.05         23574.67    191236.35636\n",
       "3          87143.17         28752.38   174341.889412\n",
       "17         53915.04         13658.08   110694.162487\n",
       "37         22888.32         10668.47   162293.359735\n",
       "28         10831.58          6310.56     39611.94993\n",
       "7            6922.2          2029.88     29039.92662\n",
       "6           6044.32         16766.16     51102.57324\n",
       "36          3182.24          3081.99     19813.09833"
      ]
     },
     "execution_count": 7,
     "metadata": {},
     "output_type": "execute_result"
    }
   ],
   "source": [
    "truck_costs = df.groupby(\"Truck_ID\")[[\"Fuel_Cost\", \"Maintenance_Cost\", \"Fixed_Costs\"]].sum().sort_values(\"Fuel_Cost\", ascending=False)\n",
    "truck_costs"
   ]
  },
  {
   "cell_type": "markdown",
   "id": "0299d24a",
   "metadata": {},
   "source": [
    "## Total Revenue per Truck"
   ]
  },
  {
   "cell_type": "code",
   "execution_count": 8,
   "id": "8bd3557e",
   "metadata": {},
   "outputs": [
    {
     "data": {
      "text/plain": [
       "Truck_ID\n",
       "2     19577.94\n",
       "19     7303.71\n",
       "22     7285.26\n",
       "3      6861.88\n",
       "20     5291.01\n",
       "Name: Net_Revenue, dtype: float64"
      ]
     },
     "execution_count": 8,
     "metadata": {},
     "output_type": "execute_result"
    }
   ],
   "source": [
    "truck_revenue=df.groupby('Truck_ID')[\"Net_Revenue\"].sum().sort_values(ascending=False)\n",
    "truck_revenue.head()"
   ]
  },
  {
   "cell_type": "markdown",
   "id": "983546f2",
   "metadata": {},
   "source": [
    "## Profit per Truck"
   ]
  },
  {
   "cell_type": "code",
   "execution_count": 9,
   "id": "1199675e",
   "metadata": {},
   "outputs": [
    {
     "data": {
      "text/plain": [
       "Truck_ID\n",
       "22    2618999.653633\n",
       "19      1497837.8949\n",
       "23    1339092.067995\n",
       "20    1279501.413925\n",
       "4     1095638.812201\n",
       "Name: Profit, dtype: object"
      ]
     },
     "execution_count": 9,
     "metadata": {},
     "output_type": "execute_result"
    }
   ],
   "source": [
    "df[\"Total_cost\"]=df[\"Fuel_Cost\"]+df[\"Maintenance_Cost\"]+df[\"Fixed_Costs\"]\n",
    "df[\"Profit\"]=df[\"Total_cost\"]-df[\"Net_Revenue\"]\n",
    "\n",
    "# Profit per truck\n",
    "truck_profit=df.groupby('Truck_ID')[\"Profit\"].sum().sort_values(ascending=False)\n",
    "truck_profit.head()"
   ]
  },
  {
   "cell_type": "markdown",
   "id": "b44f8ae9",
   "metadata": {},
   "source": [
    "# Fuel Efficiency"
   ]
  },
  {
   "cell_type": "code",
   "execution_count": 10,
   "id": "32cdb325",
   "metadata": {},
   "outputs": [
    {
     "data": {
      "text/plain": [
       "Truck_ID\n",
       "4     5.939593\n",
       "20    5.695296\n",
       "33    5.621184\n",
       "23    5.545976\n",
       "37    5.472339\n",
       "28    5.338013\n",
       "38    5.245272\n",
       "22    5.049243\n",
       "29    5.004311\n",
       "7     4.620259\n",
       "24    4.483675\n",
       "6     4.124007\n",
       "19    4.090992\n",
       "34    3.711955\n",
       "3     3.561585\n",
       "2     3.385276\n",
       "36    3.196003\n",
       "17    2.808452\n",
       "Name: KM_per_litre, dtype: object"
      ]
     },
     "execution_count": 10,
     "metadata": {},
     "output_type": "execute_result"
    }
   ],
   "source": [
    "df_litres=df[df[\"Liters\"]> 0].copy()\n",
    "\n",
    "df[\"KM_per_litre\"]=df[\"KM_Traveled\"] / df_litres[\"Liters\"]\n",
    "fuel_efficiency=df.groupby(\"Truck_ID\")[\"KM_per_litre\"].mean().sort_values(ascending=False)\n",
    "fuel_efficiency"
   ]
  },
  {
   "cell_type": "markdown",
   "id": "3b58beac",
   "metadata": {},
   "source": [
    "# Top 5 Drivers by Revenue"
   ]
  },
  {
   "cell_type": "code",
   "execution_count": 11,
   "id": "d71e0d01",
   "metadata": {},
   "outputs": [
    {
     "data": {
      "text/plain": [
       "Driver\n",
       "Ridwan Greaves      19577.94\n",
       "No Driver            7493.49\n",
       "Maheen Nicholls      7303.71\n",
       "Yasin Buck           7039.35\n",
       "Stevie Schofield     4461.35\n",
       "Name: Net_Revenue, dtype: float64"
      ]
     },
     "execution_count": 11,
     "metadata": {},
     "output_type": "execute_result"
    }
   ],
   "source": [
    "top=df.groupby('Driver')[\"Net_Revenue\"].sum().sort_values(ascending=False).head(7)\n",
    "top.head()"
   ]
  },
  {
   "cell_type": "code",
   "execution_count": 12,
   "id": "187786a4",
   "metadata": {},
   "outputs": [
    {
     "data": {
      "text/plain": [
       "<Axes: title={'center': 'Top 5 drivers by revenue'}, xlabel='Driver'>"
      ]
     },
     "execution_count": 12,
     "metadata": {},
     "output_type": "execute_result"
    },
    {
     "data": {
      "image/png": "[encoded data removed]",
      "text/plain": [
       "<Figure size 640x480 with 1 Axes>"
      ]
     },
     "metadata": {},
     "output_type": "display_data"
    }
   ],
   "source": [
    "top.plot(kind=\"bar\",title=\"Top 5 drivers by revenue\")"
   ]
  },
  {
   "cell_type": "markdown",
   "id": "5648fed3",
   "metadata": {},
   "source": [
    "# Top cities by revenue"
   ]
  },
  {
   "cell_type": "code",
   "execution_count": 13,
   "id": "d6dbdb8d",
   "metadata": {},
   "outputs": [
    {
     "data": {
      "text/plain": [
       "City\n",
       "Mineola                8038.57\n",
       "Yucca Valley           7462.77\n",
       "Herrings Crossroads    7128.19\n",
       "Irving                 6450.08\n",
       "Wheatland              6311.61\n",
       "                        ...   \n",
       "Soradoville               9.65\n",
       "Dittmer                   8.25\n",
       "Chancellorsville          7.02\n",
       "Cave Springs              6.11\n",
       "Scammon                   2.55\n",
       "Name: Net_Revenue, Length: 80, dtype: float64"
      ]
     },
     "execution_count": 13,
     "metadata": {},
     "output_type": "execute_result"
    }
   ],
   "source": [
    "top_cities=df.groupby(\"City\")[\"Net_Revenue\"].sum().sort_values(ascending=False)\n",
    "top_cities"
   ]
  },
  {
   "cell_type": "markdown",
   "id": "b5448a04",
   "metadata": {},
   "source": [
    "# Top customers by Frieght volume \n",
    "\n",
    "## Which customers giving most business"
   ]
  },
  {
   "cell_type": "code",
   "execution_count": 14,
   "id": "e4205146",
   "metadata": {},
   "outputs": [
    {
     "data": {
      "text/plain": [
       "Customer_ID\n",
       "35476    21143.93\n",
       "30232     9463.82\n",
       "10108     8884.80\n",
       "10101     8702.37\n",
       "24468     8009.92\n",
       "21539     6506.40\n",
       "40077     6361.47\n",
       "38511     5990.50\n",
       "1989      5885.24\n",
       "32551     5800.61\n",
       "Name: Weight(Kg), dtype: float64"
      ]
     },
     "execution_count": 14,
     "metadata": {},
     "output_type": "execute_result"
    }
   ],
   "source": [
    "top_cust_kg=df.groupby(\"Customer_ID\")[\"Weight(Kg)\"].sum().sort_values(ascending=False)\n",
    "top_cust_kg.head(10)"
   ]
  },
  {
   "cell_type": "markdown",
   "id": "1d1ff79b",
   "metadata": {},
   "source": [
    "# Monthly Revenue"
   ]
  },
  {
   "cell_type": "code",
   "execution_count": 15,
   "id": "df0e3d28",
   "metadata": {},
   "outputs": [
    {
     "data": {
      "text/plain": [
       "Month\n",
       "2018-10    16141.59\n",
       "2018-03    10467.54\n",
       "2018-05     9512.38\n",
       "2019-07     6039.76\n",
       "2018-02     5435.42\n",
       "2019-04     4643.23\n",
       "2018-09     4451.54\n",
       "2018-11     4136.59\n",
       "2018-08     3271.82\n",
       "2019-02     2629.17\n",
       "2019-08     2569.50\n",
       "2018-04     2106.61\n",
       "2018-12     1627.57\n",
       "2019-03     1254.49\n",
       "Freq: M, Name: Net_Revenue, dtype: float64"
      ]
     },
     "execution_count": 15,
     "metadata": {},
     "output_type": "execute_result"
    }
   ],
   "source": [
    "df[\"Month\"]=df[\"Date\"].dt.to_period(\"M\")\n",
    "\n",
    "monthly_revenue=df.groupby(\"Month\")[\"Net_Revenue\"].sum().sort_values(ascending=False)\n",
    "monthly_revenue"
   ]
  },
  {
   "cell_type": "markdown",
   "id": "4f771dc6",
   "metadata": {},
   "source": [
    "# Total cost Vs Revenue by month"
   ]
  },
  {
   "cell_type": "code",
   "execution_count": 16,
   "id": "abb36345",
   "metadata": {},
   "outputs": [
    {
     "data": {
      "text/html": [
       "<div>\n",
       "<style scoped>\n",
       "    .dataframe tbody tr th:only-of-type {\n",
       "        vertical-align: middle;\n",
       "    }\n",
       "\n",
       "    .dataframe tbody tr th {\n",
       "        vertical-align: top;\n",
       "    }\n",
       "\n",
       "    .dataframe thead th {\n",
       "        text-align: right;\n",
       "    }\n",
       "</style>\n",
       "<table border=\"1\" class=\"dataframe\">\n",
       "  <thead>\n",
       "    <tr style=\"text-align: right;\">\n",
       "      <th></th>\n",
       "      <th>Net_Revenue</th>\n",
       "      <th>Total_cost</th>\n",
       "      <th>Profit</th>\n",
       "    </tr>\n",
       "    <tr>\n",
       "      <th>Month</th>\n",
       "      <th></th>\n",
       "      <th></th>\n",
       "      <th></th>\n",
       "    </tr>\n",
       "  </thead>\n",
       "  <tbody>\n",
       "    <tr>\n",
       "      <th>2018-02</th>\n",
       "      <td>5435.42</td>\n",
       "      <td>480832.565621</td>\n",
       "      <td>475397.145621</td>\n",
       "    </tr>\n",
       "    <tr>\n",
       "      <th>2018-03</th>\n",
       "      <td>10467.54</td>\n",
       "      <td>1137676.8656</td>\n",
       "      <td>1127209.3256</td>\n",
       "    </tr>\n",
       "    <tr>\n",
       "      <th>2018-04</th>\n",
       "      <td>2106.61</td>\n",
       "      <td>929686.667192</td>\n",
       "      <td>927580.057192</td>\n",
       "    </tr>\n",
       "    <tr>\n",
       "      <th>2018-05</th>\n",
       "      <td>9512.38</td>\n",
       "      <td>1062953.084871</td>\n",
       "      <td>1053440.704871</td>\n",
       "    </tr>\n",
       "    <tr>\n",
       "      <th>2018-08</th>\n",
       "      <td>3271.82</td>\n",
       "      <td>662928.912137</td>\n",
       "      <td>659657.092137</td>\n",
       "    </tr>\n",
       "    <tr>\n",
       "      <th>2018-09</th>\n",
       "      <td>4451.54</td>\n",
       "      <td>1185535.636811</td>\n",
       "      <td>1181084.096811</td>\n",
       "    </tr>\n",
       "    <tr>\n",
       "      <th>2018-10</th>\n",
       "      <td>16141.59</td>\n",
       "      <td>2740869.866562</td>\n",
       "      <td>2724728.276562</td>\n",
       "    </tr>\n",
       "    <tr>\n",
       "      <th>2018-11</th>\n",
       "      <td>4136.59</td>\n",
       "      <td>1472002.72</td>\n",
       "      <td>1467866.13</td>\n",
       "    </tr>\n",
       "    <tr>\n",
       "      <th>2018-12</th>\n",
       "      <td>1627.57</td>\n",
       "      <td>1163236.56</td>\n",
       "      <td>1161608.99</td>\n",
       "    </tr>\n",
       "    <tr>\n",
       "      <th>2019-02</th>\n",
       "      <td>2629.17</td>\n",
       "      <td>149494.1</td>\n",
       "      <td>146864.93</td>\n",
       "    </tr>\n",
       "    <tr>\n",
       "      <th>2019-03</th>\n",
       "      <td>1254.49</td>\n",
       "      <td>89378.34</td>\n",
       "      <td>88123.85</td>\n",
       "    </tr>\n",
       "    <tr>\n",
       "      <th>2019-04</th>\n",
       "      <td>4643.23</td>\n",
       "      <td>452743.094223</td>\n",
       "      <td>448099.864223</td>\n",
       "    </tr>\n",
       "    <tr>\n",
       "      <th>2019-07</th>\n",
       "      <td>6039.76</td>\n",
       "      <td>186820.84832</td>\n",
       "      <td>180781.08832</td>\n",
       "    </tr>\n",
       "    <tr>\n",
       "      <th>2019-08</th>\n",
       "      <td>2569.50</td>\n",
       "      <td>322266.558759</td>\n",
       "      <td>319697.058759</td>\n",
       "    </tr>\n",
       "  </tbody>\n",
       "</table>\n",
       "</div>"
      ],
      "text/plain": [
       "         Net_Revenue      Total_cost          Profit\n",
       "Month                                               \n",
       "2018-02      5435.42   480832.565621   475397.145621\n",
       "2018-03     10467.54    1137676.8656    1127209.3256\n",
       "2018-04      2106.61   929686.667192   927580.057192\n",
       "2018-05      9512.38  1062953.084871  1053440.704871\n",
       "2018-08      3271.82   662928.912137   659657.092137\n",
       "2018-09      4451.54  1185535.636811  1181084.096811\n",
       "2018-10     16141.59  2740869.866562  2724728.276562\n",
       "2018-11      4136.59      1472002.72      1467866.13\n",
       "2018-12      1627.57      1163236.56      1161608.99\n",
       "2019-02      2629.17        149494.1       146864.93\n",
       "2019-03      1254.49        89378.34        88123.85\n",
       "2019-04      4643.23   452743.094223   448099.864223\n",
       "2019-07      6039.76    186820.84832    180781.08832\n",
       "2019-08      2569.50   322266.558759   319697.058759"
      ]
     },
     "execution_count": 16,
     "metadata": {},
     "output_type": "execute_result"
    }
   ],
   "source": [
    "monthly_data=df.groupby(\"Month\")[[\"Net_Revenue\",\"Total_cost\"]].sum()\n",
    "monthly_data[\"Profit\"]=monthly_data[\"Total_cost\"]-monthly_data[\"Net_Revenue\"]\n",
    "monthly_data"
   ]
  },
  {
   "cell_type": "code",
   "execution_count": 17,
   "id": "326929c9",
   "metadata": {},
   "outputs": [
    {
     "data": {
      "image/png": "[encoded data removed]",
      "text/plain": [
       "<Figure size 2500x1300 with 1 Axes>"
      ]
     },
     "metadata": {},
     "output_type": "display_data"
    }
   ],
   "source": [
    "top_cities = df.groupby(\"City\")[\"Net_Revenue\"].sum().sort_values(ascending=False).head(10)\n",
    "\n",
    "top_cities.plot(kind='bar', color='skyblue', title='Top Cities by Revenue',figsize=(25,13))\n",
    "plt.ylabel(\"Revenue\")\n",
    "plt.xlabel(\"City\")\n",
    "plt.xticks(rotation=45)\n",
    "plt.tight_layout()\n",
    "plt.show()\n"
   ]
  },
  {
   "cell_type": "markdown",
   "id": "d3e61f8c",
   "metadata": {},
   "source": [
    "# Connect to MYSQL"
   ]
  },
  {
   "cell_type": "code",
   "execution_count": 18,
   "id": "a7461b00",
   "metadata": {},
   "outputs": [
    {
     "name": "stdout",
     "output_type": "stream",
     "text": [
      "Requirement already satisfied: sqlalchemy in c:\\users\\user\\desktop\\jup\\lib\\site-packages (1.4.39)\n",
      "Requirement already satisfied: pymysql in c:\\users\\user\\desktop\\jup\\lib\\site-packages (1.1.1)\n",
      "Requirement already satisfied: greenlet!=0.4.17 in c:\\users\\user\\desktop\\jup\\lib\\site-packages (from sqlalchemy) (2.0.1)\n"
     ]
    }
   ],
   "source": [
    "!pip install sqlalchemy pymysql\n"
   ]
  },
  {
   "cell_type": "code",
   "execution_count": 19,
   "id": "91a2822c",
   "metadata": {},
   "outputs": [
    {
     "data": {
      "text/plain": [
       "970"
      ]
     },
     "execution_count": 19,
     "metadata": {},
     "output_type": "execute_result"
    }
   ],
   "source": [
    "from sqlalchemy import create_engine\n",
    "\n",
    "#credentials\n",
    "user = 'root'\n",
    "password = 'Datamites%40123'\n",
    "host = 'localhost'\n",
    "port = 3306\n",
    "database = 'logistics'\n",
    "\n",
    "# Create connection string\n",
    "connection_string = f\"mysql+pymysql://{user}:{password}@{host}:{port}/{database}\"\n",
    "engine = create_engine(connection_string)\n",
    "\n",
    "# Export to SQL table\n",
    "df.to_sql(\"freight_data\", con=engine, if_exists='replace', index=False)\n"
   ]
  },
  {
   "cell_type": "code",
   "execution_count": null,
   "id": "882c3ad3",
   "metadata": {},
   "outputs": [],
   "source": []
  }
 ],
 "metadata": {
  "kernelspec": {
   "display_name": "Python 3 (ipykernel)",
   "language": "python",
   "name": "python3"
  },
  "language_info": {
   "codemirror_mode": {
    "name": "ipython",
    "version": 3
   },
   "file_extension": ".py",
   "mimetype": "text/x-python",
   "name": "python",
   "nbconvert_exporter": "python",
   "pygments_lexer": "ipython3",
   "version": "3.11.5"
  }
 },
 "nbformat": 4,
 "nbformat_minor": 5
}
